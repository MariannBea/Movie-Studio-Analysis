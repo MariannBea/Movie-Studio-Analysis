{
 "cells": [
  {
   "cell_type": "code",
   "execution_count": 1,
   "metadata": {},
   "outputs": [],
   "source": [
    "import pandas as pd\n",
    "import numpy as np\n",
    "import math\n",
    "\n",
    "from pandas_profiling import ProfileReport\n",
    "\n",
    "import seaborn as sns\n",
    "import matplotlib.pyplot as plt"
   ]
  },
  {
   "cell_type": "code",
   "execution_count": 2,
   "metadata": {},
   "outputs": [],
   "source": [
    "movies_df = pd.read_csv('movie_metadata.csv')\n",
    "\n",
    "#creates a profile document which analyses each of the variables in the dataframe \n",
    "# movies_profile = ProfileReport(movies, title = \"Movie Report\", explorative=True)\n",
    "# movies_profile.to_file(\"movies.html\")"
   ]
  },
  {
   "cell_type": "markdown",
   "metadata": {},
   "source": [
    "# Information Gained From the Profile\n",
    "\n",
    "**Numerical**\n",
    "\n",
    "director_facebook_likes, *duration*,  actor_1_facebook_likes, actor_2_facebook_likes, actor_3_facebook_likes, cast_total_facebook_likes, movie_facebook_likes, \n",
    "\n",
    "num_voted_users, num_critic_for_reviews,  num_user_for_reviews   \n",
    "\n",
    "gross, budget,\n",
    "\n",
    "*imbd_score*, facenumber_in_poster\n",
    "\n",
    "*Italitized items have close to a normal distribution. The rest of the values are skewed.*\n",
    "\n",
    "**Categorical**\n",
    "\n",
    "*director_name, actor_1_name, actor_2_name, actor_3_name*\n",
    "\n",
    "language, country, content_rating\n",
    "\n",
    "*movie_title, movie_imdb_link*,  aspect_ratio, color\n",
    "\n",
    "*Italitized items have high cardinality.*\n",
    "\n",
    "**Imbalanced Variables**: color, language, country\n",
    "\n",
    "**List Variables**: genres, plot keywords\n",
    "\n",
    "**Large Percentage Missing**: director_facebook_likes, gross, budget, title_year\n",
    "\n",
    "**Extreme Values** : Most of the numerical values have outliers/extreme values. "
   ]
  },
  {
   "cell_type": "markdown",
   "metadata": {},
   "source": [
    "* About half of the varaiables contained information that could be used to plan future productions. \n",
    "* The other half of the information was about things that studios would have little or no control over, such as the number of facebook likes or reviewer on imdb.\n",
    "* Some of the variables, like director and actor, had a lot of different possible values.  This could make it more difficult to use with Machine Learning algorithms.\n",
    "* The first movie in the database was from 1916.  Movies that are from far in the past might not be as good at helping to predict future movie sales.\n",
    "* Data was heavily scewed towards color movies, english language and movies made in the US. As most movies are made in color now, this variable could probably be dropped. Language and country data would either need some processing before use or to drop them as well.\n",
    "* Most of the data did not have missing values. Unfortunately, budget and gross, two of the more important ones for this analysis had a high percentage of missing values.\n",
    "* Very few of the values had normal distribution.  Some of this was likely due the changes in technology over time and inflation.\n",
    "* Many of the values had high correlations between them. Some of this was also likely due to changes over time.\n",
    "* Both budget and gross had an extremely wide spread.  Part of this was probably due to inflation. Adjusting amounts for inflation might help with this to some extent."
   ]
  },
  {
   "cell_type": "code",
   "execution_count": 3,
   "metadata": {},
   "outputs": [],
   "source": [
    "# create a new column, transform 'genres' and 'plot_keywords' into lists, \n",
    "# store the lists in the new columns\n",
    "movies_df['genre_list'] = movies_df['genres'].copy()\n",
    "movies_df['genre_list'] = movies_df['genre_list'].str.split('|')\n",
    "\n",
    "movies_df['keyword_list'] = movies_df['plot_keywords'].copy()\n",
    "movies_df['keyword_list'] = movies_df['keyword_list'].str.split('|')\n",
    "\n",
    "# create boolean columns for each genre\n",
    "\n",
    "genres = set([item for lists in movies_df['genre_list'] for item in lists])\n",
    "\n",
    "# Below code was taken from: \n",
    "# https://towardsdatascience.com/dealing-with-list-values-in-pandas-dataframes-a177e534f173\n",
    "# Create empty dict\n",
    "genre_dict = {}\n",
    "\n",
    "# Loop through all the tags\n",
    "for i, item in enumerate(genres):\n",
    "    # Apply boolean mask\n",
    "    genre_dict[item] = movies_df['genre_list'].apply(lambda x: item in x)\n",
    "\n",
    "# Return the results as a dataframe, change True and false values to 0 and 1\n",
    "genre_frame =  pd.DataFrame(genre_dict)\n",
    "genre_frame = genre_frame.astype(int)\n",
    "\n",
    "\n",
    "movies_df = pd.merge(movies_df, genre_frame, left_index = True, right_index = True)        \n"
   ]
  },
  {
   "cell_type": "markdown",
   "metadata": {},
   "source": [
    "Inflation information was found at: https://data.worldbank.org/indicator/FP.CPI.TOTL.ZG\n",
    "Some countries were not present in the data.\n",
    "The countries on the left were give the values for the country or region on the right as they were closest economic match\n",
    "Argentina: Latin America & Caribbean\n",
    "Finland: EU\n",
    "Indonesia: East Asia & Pacific (excluding high income)\n",
    "South Korea: East Asia & Pacific\n",
    "Taiwan: China\n",
    "Thailand: East Asia & Pacific (excluding high income)\n",
    "West Germany - Russia\n",
    "Soviet Union - Russia"
   ]
  },
  {
   "cell_type": "code",
   "execution_count": 12,
   "metadata": {
    "scrolled": true
   },
   "outputs": [
    {
     "name": "stdout",
     "output_type": "stream",
     "text": [
      "                          title    budget      gross\n",
      "0             Napoleon Dynamite    400000   46118097\n",
      "1                     Childless   1000000          0\n",
      "2                Little Big Top         0          0\n",
      "3                      Æon Flux  62000000   53321673\n",
      "4     The Spiderwick Chronicles  90000000  164170327\n",
      "...                         ...       ...        ...\n",
      "1453                The Nut Job  42000000  122529966\n",
      "1454     For Your Consideration  12000000    5542025\n",
      "1455                       Rush  38000000   90247624\n",
      "1456              Anna Karenina         0   68929150\n",
      "1457     Lars and the Real Girl  12000000   11293663\n",
      "\n",
      "[1458 rows x 3 columns]\n"
     ]
    }
   ],
   "source": [
    "#load information from API\n",
    "budget_data = pd.read_csv(\"movie_budget_data.csv\")\n",
    "budget_data.rename(columns = {'0': 'title', '1':'budget', '2':'gross'}, inplace = True)\n",
    "# movies_df['budget'].fillna(0, inplace = True)\n",
    "\n",
    "#replace information in database with information from API\n",
    "for index, title, budget, gross in budget_data.itertuples():\n",
    "    strbudget = str(budget)\n",
    "    strgross = str(gross)\n",
    "    strtitle = title\n",
    "    if budget != 0:\n",
    "        movies_df.loc[title, 'budget'] = gross\n",
    "    if gross != 0:\n",
    "        movies_df.loc[title, 'gross'] = gross"
   ]
  },
  {
   "cell_type": "code",
   "execution_count": 16,
   "metadata": {},
   "outputs": [],
   "source": [
    "inflation = pd.read_csv(\"price_index.csv\")\n",
    "\n",
    "# calculate mean inflation rate for each country.  Use this rate to fill in NaN values    \n",
    "\n",
    "inflation['mean'] = inflation.mean(axis = 1, numeric_only = True)\n",
    "inflation = inflation.set_index('country')\n",
    "\n",
    "# fill missing years with 2005, missing countries with USA (most common)\n",
    "movies_df['title_year'].fillna(2005, inplace = True)\n",
    "movies_df['country'].fillna('USA', inplace = True)\n",
    "\n",
    "#determine inflation rate for each movie, movies before 1960 given mean inflation rate\n",
    "movies_df['title_year'] = movies_df['title_year'].astype(int)\n",
    "\n",
    "movies_df[['budget', 'gross']].dropna()\n",
    "\n",
    "for index, year, country in movies_df[['title_year', 'country']].itertuples():\n",
    "    stryear = str(year)\n",
    "    strcountry = str(country)\n",
    "    if year >= 1960:\n",
    "        movies_df['rate'] = inflation.loc[[strcountry],[stryear]].iloc[0][0]\n",
    "    else:\n",
    "        movies_df['rate'] = inflation.loc[[strcountry],['mean']].iloc[0][0]\n",
    "\n",
    "# find budget and gross adjusted for inflation\n",
    "movies_df['budget_infl'] = (movies_df['budget']/movies_df['rate']) * 100\n",
    "movies_df['gross_infl'] = (movies_df['gross']/movies_df['rate']) * 100\n",
    "\n",
    "#create column to record if movies were rated for TV and then consolidate ratings into smaller\n",
    "# categories\n",
    "movies_df['format'] = np.where(movies_df['content_rating'].str.match('TV'), \"TV\", \"Movie\")\n",
    "movies_df['content_rating'].replace({'Not Rated': 'Unrated', 'Approved': 'Unrated', \n",
    "                                           'TV-G': 'G',  'TV-PG': 'PG', 'TV-MA': 'R',\n",
    "                                           'TV-Y': 'G', 'TV-14': 'PG-13', 'Passed': 'Not Rated',\n",
    "                                           'TV-Y7': 'PG', 'M': 'PG', 'GP': 'PG'}, inplace = True)\n",
    "                                           \n",
    "movies_df['profit'] = movies_df['gross_infl'] - movies_df['budget_infl']\n",
    "movies_df.drop_duplicates(subset=['color', 'director_name', 'duration', \n",
    "                                  'actor_2_name', 'actor_1_name', 'movie_title', 'actor_3_name', \n",
    "                                  'facenumber_in_poster', 'language', 'country', 'content_rating',\n",
    "                                  'budget', 'title_year', 'gross', 'aspect_ratio'], inplace = True)"
   ]
  },
  {
   "cell_type": "markdown",
   "metadata": {},
   "source": [
    " "
   ]
  },
  {
   "cell_type": "code",
   "execution_count": 18,
   "metadata": {},
   "outputs": [],
   "source": [
    "#create a database for movies that are after 1990\n",
    "movies_after_1990 = movies_df.loc[movies_df['title_year'] >= 1990]\n",
    "movies_after_1990 = movies_after_1990.drop(columns = ['color', 'num_voted_users', 'num_user_for_reviews', 'num_critic_for_reviews'])\n",
    "\n",
    "\n",
    "# add a column showing relative frequency of movies directed by a particular director\n",
    "num_movies = movies_after_1990['director_name'].value_counts(normalize = True).reset_index()\n",
    "num_movies.columns = ['director_name', 'director_count']\n",
    "movies_after_1990 = pd.merge(movies_after_1990, num_movies, on = 'director_name')\n",
    "\n",
    "\n",
    "# find frequency of each actor\n",
    "actor1_num_movies = pd.DataFrame(movies_after_1990[['actor_1_name']].value_counts()).reset_index()\n",
    "actor2_num_movies = pd.DataFrame(movies_after_1990[['actor_2_name']].value_counts()).reset_index()\n",
    "actor3_num_movies = pd.DataFrame(movies_after_1990[['actor_3_name']].value_counts()).reset_index()\n",
    "\n",
    "\n",
    "#create a dictionary with the total count of actors across actor1, actor2 and actor 3\n",
    "actor_dict = { }\n",
    "\n",
    "for index1, actor1, count1 in actor1_num_movies.itertuples():\n",
    "    if actor1 in actor_dict:\n",
    "        actor_dict[actor1] += count1\n",
    "    else: \n",
    "        actor_dict[actor1] = count1\n",
    "\n",
    "for index2, actor2, count2 in actor2_num_movies.itertuples():\n",
    "    if actor2 in actor_dict:\n",
    "        actor_dict[actor2] += count2\n",
    "    else: \n",
    "        actor_dict[actor2] = count2\n",
    "        \n",
    "for index3, actor3, count3 in actor3_num_movies.itertuples():\n",
    "    if actor3 in actor_dict:\n",
    "        actor_dict[actor3] += count3\n",
    "    else: \n",
    "        actor_dict[actor3] = count3  \n",
    "        \n"
   ]
  },
  {
   "cell_type": "code",
   "execution_count": 19,
   "metadata": {},
   "outputs": [],
   "source": [
    "#add actor count column to data frame\n",
    "movies_after_1990['actor1_count'] = movies_after_1990['actor_1_name'].apply(lambda x: actor_dict.get(x))\n",
    "movies_after_1990['actor2_count'] = movies_after_1990['actor_2_name'].apply(lambda x: actor_dict.get(x))\n",
    "movies_after_1990['actor3_count'] = movies_after_1990['actor_3_name'].apply(lambda x: actor_dict.get(x))"
   ]
  },
  {
   "cell_type": "code",
   "execution_count": 21,
   "metadata": {},
   "outputs": [
    {
     "name": "stdout",
     "output_type": "stream",
     "text": [
      "4290\n"
     ]
    }
   ],
   "source": []
  },
  {
   "cell_type": "code",
   "execution_count": null,
   "metadata": {},
   "outputs": [],
   "source": []
  },
  {
   "cell_type": "code",
   "execution_count": null,
   "metadata": {},
   "outputs": [],
   "source": []
  }
 ],
 "metadata": {
  "kernelspec": {
   "display_name": "Python 3",
   "language": "python",
   "name": "python3"
  },
  "language_info": {
   "codemirror_mode": {
    "name": "ipython",
    "version": 3
   },
   "file_extension": ".py",
   "mimetype": "text/x-python",
   "name": "python",
   "nbconvert_exporter": "python",
   "pygments_lexer": "ipython3",
   "version": "3.8.5"
  }
 },
 "nbformat": 4,
 "nbformat_minor": 4
}
