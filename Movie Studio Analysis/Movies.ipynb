{
 "cells": [
  {
   "cell_type": "code",
   "execution_count": 1,
   "metadata": {},
   "outputs": [],
   "source": [
    "import pandas as pd\n",
    "import numpy as np\n",
    "import math\n",
    "from pandas_profiling import ProfileReport\n",
    "import seaborn as sns\n",
    "import matplotlib.pyplot as plt\n",
    "from sklearn.preprocessing import PowerTransformer\n",
    "from sklearn.model_selection import train_test_split\n",
    "from sklearn.model_selection import StratifiedKFold\n",
    "from sklearn.metrics import classification_report\n",
    "from sklearn.metrics import confusion_matrix\n",
    "from sklearn.metrics import accuracy_score\n",
    "from sklearn import linear_model\n",
    "from sklearn import tree\n",
    "from sklearn.neighbors import KNeighborsClassifier"
   ]
  },
  {
   "cell_type": "code",
   "execution_count": 2,
   "metadata": {},
   "outputs": [],
   "source": [
    "movies = pd.read_csv('movie_metadata.csv')"
   ]
  },
  {
   "cell_type": "code",
   "execution_count": 3,
   "metadata": {},
   "outputs": [],
   "source": [
    "# create a new column, transform 'genres' and 'plot_keywords' into lists, \n",
    "# store the lists in the new columns\n",
    "movies['genre_list'] = movies['genres'].copy()\n",
    "movies['genre_list'] = movies['genre_list'].str.split('|')\n",
    "\n",
    "movies['keyword_list'] = movies['plot_keywords'].copy()\n",
    "movies['keyword_list'] = movies['keyword_list'].str.split('|')\n",
    "\n",
    "\n",
    "# create a dataframe of columns with items that movie studios have control over\n",
    "theatre_choices = movies[['color', 'director_name', 'duration', \n",
    "                                  'actor_2_name', 'actor_1_name', 'movie_title', 'actor_3_name', \n",
    "                                  'facenumber_in_poster', 'language', 'country', 'content_rating',\n",
    "                                  'budget', 'title_year', 'gross', 'aspect_ratio', 'genre_list', 'keyword_list']]\n",
    "\n",
    "\n",
    "genres = set([item for lists in theatre_choices['genre_list'] for item in lists])\n",
    "\n",
    "# create boolean columns for each genre\n",
    "# Below code was taken from: \n",
    "# https://towardsdatascience.com/dealing-with-list-values-in-pandas-dataframes-a177e534f173\n",
    "# Create empty dict\n",
    "genre_dict = {}\n",
    "\n",
    "# Loop through all the tags\n",
    "for i, item in enumerate(genres):\n",
    "    # Apply boolean mask\n",
    "    genre_dict[item] = theatre_choices['genre_list'].apply(lambda x: item in x)\n",
    "\n",
    "# Return the results as a dataframe, change True and false values to 0 and 1\n",
    "genre_frame =  pd.DataFrame(genre_dict)\n",
    "genre_frame = genre_frame.astype(int)\n",
    "\n",
    "\n",
    "studios_complete = pd.merge(theatre_choices, genre_frame, left_index = True, right_index = True)        \n"
   ]
  },
  {
   "cell_type": "code",
   "execution_count": 4,
   "metadata": {},
   "outputs": [],
   "source": [
    "# in inflation document - the countries on the left were give the values for the country or region on the right\n",
    "# Argentina: Latin America & Caribbean\n",
    "# Finland: EU\n",
    "# Indonesia: East Asia & Pacific (excluding high income)\n",
    "# New Line: looked up, changed to USA\n",
    "# Official site: looked up, changed to USA\n",
    "# South Korea: East Asia & Pacific\n",
    "# Taiwan: China\n",
    "# Thailand: East Asia & Pacific (excluding high income)\n",
    "# West Germany - Russia\n",
    "# Soviet Union - Russiainflation = pd.read_csv(\"price_index.csv\")\n",
    "inflation = pd.read_csv(\"price_index.csv\")\n",
    "\n",
    "# replace string values with \"Missing\"\n",
    "strings = ['color', 'director_name',  'actor_2_name', 'actor_1_name', 'content_rating',\n",
    "       'movie_title', 'actor_3_name',  'language', 'country', 'genre_list', 'aspect_ratio']\n",
    "\n",
    "for item in strings:\n",
    "    studios_complete[item].fillna(\"Missing\", inplace = True)\n",
    "\n",
    "    \n",
    "# calculate mean inflation rate for each country.  Use this rate to fill in NaN values    \n",
    "\n",
    "inflation['mean'] = inflation.mean(axis = 1, numeric_only = True)\n",
    "inflation = inflation.set_index('country')\n",
    "\n",
    "# fill missing years with 2005, missing countries with USA (most common)\n",
    "studios_complete['title_year'].fillna(2005, inplace = True)\n",
    "studios_complete['country'].replace('Missing', 'USA', inplace = True)\n",
    "\n",
    "#determine inflation rate for each movie, movies before 1960 given mean inflation rate\n",
    "studios_complete['title_year'] = studios_complete['title_year'].astype(int)\n",
    "\n",
    "for index, year, country in studios_complete[['title_year', 'country']].itertuples():\n",
    "    stryear = str(year)\n",
    "    strcountry = str(country)\n",
    "    if year >= 1960:\n",
    "        studios_complete['rate'] = inflation.loc[[strcountry],[stryear]].iloc[0][0]\n",
    "    else:\n",
    "        studios_complete['rate'] = inflation.loc[[strcountry],['mean']].iloc[0][0]\n",
    "\n",
    "# find budget and gross adjusted for inflation\n",
    "studios_complete['budget_infl'] = (studios_complete['budget']/studios_complete['rate']) * 100\n",
    "studios_complete['gross_infl'] = (studios_complete['gross']/studios_complete['rate']) * 100\n",
    "\n",
    "#create column to record if movies were rated for TV and then consolidate ratings into smaller\n",
    "# categories\n",
    "studios_complete['format'] = np.where(studios_complete['content_rating'].str.match('TV'), \"TV\", \"Movie\")\n",
    "studios_complete['content_rating'].replace({'Not Rated': 'Unrated', 'Approved': 'Unrated', \n",
    "                                           'TV-G': 'G',  'TV-PG': 'PG', 'TV-MA': 'R',\n",
    "                                           'TV-Y': 'G', 'TV-14': 'PG-13', 'Passed': 'Not Rated',\n",
    "                                           'TV-Y7': 'PG', 'M': 'PG', 'GP': 'PG'}, inplace = True)\n",
    "                                           \n",
    "studios_complete['profit'] = studios_complete['gross_infl'] - studios_complete['budget_infl']\n",
    "studios_complete.drop_duplicates(subset=['color', 'director_name', 'duration', \n",
    "                                  'actor_2_name', 'actor_1_name', 'movie_title', 'actor_3_name', \n",
    "                                  'facenumber_in_poster', 'language', 'country', 'content_rating',\n",
    "                                  'budget', 'title_year', 'gross', 'aspect_ratio'], inplace = True)"
   ]
  },
  {
   "cell_type": "code",
   "execution_count": 5,
   "metadata": {},
   "outputs": [
    {
     "data": {
      "application/vnd.jupyter.widget-view+json": {
       "model_id": "d0f9a3434288470b8100e752efd1ddc2",
       "version_major": 2,
       "version_minor": 0
      },
      "text/plain": [
       "HBox(children=(HTML(value='Summarize dataset'), FloatProgress(value=0.0, max=62.0), HTML(value='')))"
      ]
     },
     "metadata": {},
     "output_type": "display_data"
    },
    {
     "name": "stdout",
     "output_type": "stream",
     "text": [
      "\n"
     ]
    },
    {
     "data": {
      "application/vnd.jupyter.widget-view+json": {
       "model_id": "520ece5ecd704a00b3abbf432a06ef3d",
       "version_major": 2,
       "version_minor": 0
      },
      "text/plain": [
       "HBox(children=(HTML(value='Generate report structure'), FloatProgress(value=0.0, max=1.0), HTML(value='')))"
      ]
     },
     "metadata": {},
     "output_type": "display_data"
    },
    {
     "name": "stdout",
     "output_type": "stream",
     "text": [
      "\n"
     ]
    },
    {
     "data": {
      "application/vnd.jupyter.widget-view+json": {
       "model_id": "0165ba57eadd47c28a7cd862b2f0943b",
       "version_major": 2,
       "version_minor": 0
      },
      "text/plain": [
       "HBox(children=(HTML(value='Render HTML'), FloatProgress(value=0.0, max=1.0), HTML(value='')))"
      ]
     },
     "metadata": {},
     "output_type": "display_data"
    },
    {
     "name": "stdout",
     "output_type": "stream",
     "text": [
      "\n"
     ]
    },
    {
     "data": {
      "application/vnd.jupyter.widget-view+json": {
       "model_id": "929113e6959a42d091b72fe85f183f8d",
       "version_major": 2,
       "version_minor": 0
      },
      "text/plain": [
       "HBox(children=(HTML(value='Export report to file'), FloatProgress(value=0.0, max=1.0), HTML(value='')))"
      ]
     },
     "metadata": {},
     "output_type": "display_data"
    },
    {
     "name": "stdout",
     "output_type": "stream",
     "text": [
      "\n"
     ]
    }
   ],
   "source": [
    "studios_profile = ProfileReport(studios_complete, title = \"Movie Report\")\n",
    "\n",
    "studios_profile.to_file(\"studios.html\")\n"
   ]
  },
  {
   "cell_type": "code",
   "execution_count": null,
   "metadata": {},
   "outputs": [],
   "source": []
  },
  {
   "cell_type": "code",
   "execution_count": null,
   "metadata": {},
   "outputs": [],
   "source": []
  },
  {
   "cell_type": "code",
   "execution_count": null,
   "metadata": {},
   "outputs": [],
   "source": []
  }
 ],
 "metadata": {
  "kernelspec": {
   "display_name": "Python 3",
   "language": "python",
   "name": "python3"
  },
  "language_info": {
   "codemirror_mode": {
    "name": "ipython",
    "version": 3
   },
   "file_extension": ".py",
   "mimetype": "text/x-python",
   "name": "python",
   "nbconvert_exporter": "python",
   "pygments_lexer": "ipython3",
   "version": "3.8.5"
  }
 },
 "nbformat": 4,
 "nbformat_minor": 4
}
