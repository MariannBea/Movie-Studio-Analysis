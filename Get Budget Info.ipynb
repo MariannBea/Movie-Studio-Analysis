{
 "cells": [
  {
   "cell_type": "code",
   "execution_count": 1,
   "metadata": {},
   "outputs": [],
   "source": [
    "# libraries needed to get data from https://api.themoviedb.org/...\n",
    "import requests\n",
    "import json\n",
    "\n",
    "import re\n",
    "import pandas as pd\n",
    "\n"
   ]
  },
  {
   "cell_type": "markdown",
   "metadata": {},
   "source": [
    "Resources: https://youtu.be/Sg5VTTBIhqo\n",
    "           https://github.com/codingforentrepreneurs/30-Days-of-Python/blob/master/tutorial-reference/Day%2013/connect.py"
   ]
  },
  {
   "cell_type": "code",
   "execution_count": 2,
   "metadata": {},
   "outputs": [],
   "source": [
    "df = pd.read_csv(\"movie_metadata.csv\")\n",
    "\n",
    "# create a database with movie titles and years to use with API to look up information\n",
    "name_list = df[['movie_title', 'title_year']]\n",
    "name_list = name_list[name_list['title_year'] >= 1999]\n",
    "name_list = name_list.drop_duplicates()\n",
    "name_list = name_list.astype({'title_year': int, 'movie_title': str})\n",
    "name_list = name_list.astype({'title_year': str, 'movie_title': str})\n",
    "name_list.reset_index(drop=True, inplace=True)"
   ]
  },
  {
   "cell_type": "code",
   "execution_count": 3,
   "metadata": {},
   "outputs": [],
   "source": [
    "\n",
    "\n",
    "def movie_matching(title, j):\n",
    "    checking = not re.match(title, name_list.iloc[j, 0])\n",
    "    if (not re.match(title, name_list.iloc[j, 0])):\n",
    "        print(f'no match: {title}, {name_list.iloc[j, 0]}, {j}')\n",
    "        if j == 2000:\n",
    "            j = 0\n",
    "            return False;\n",
    "        else:\n",
    "            j += 1\n",
    "            movie_matching(title, j)\n",
    "    else: \n",
    "        movie_ids.add(_id)\n",
    "        print(f'match: {title}, {name_list.iloc[j, 0]}, {j}')\n",
    "        name_list.drop(j, inplace = True)\n",
    "        name_list.reset_index(drop=True, inplace=True)\n",
    "        return True;\n"
   ]
  },
  {
   "cell_type": "code",
   "execution_count": null,
   "metadata": {},
   "outputs": [],
   "source": [
    "\n"
   ]
  },
  {
   "cell_type": "code",
   "execution_count": 1,
   "metadata": {},
   "outputs": [],
   "source": [
    "movie_ids = set()\n",
    "movies_check = []\n",
    "no_matches = []\n",
    "\n",
    "for i in range(len(name_list)) :\n",
    "    name = name_list.iloc[i, 0]\n",
    "    year = name_list.iloc[i, 1]\n",
    "    endpoint = \"\"\n",
    "    api_key = \"e324e12054790b52bb68c8d98118dd96\"\n",
    "    api_version = 3\n",
    "    api_base_url = f\"https://api.themoviedb.org/{api_version}\"\n",
    "    endpoint_path = f\"/search/movie\"\n",
    "    if year != 0:\n",
    "        endpoint = f\"{api_base_url}{endpoint_path}?api_key={api_key}&query={name}&year={year}\"\n",
    "    else:\n",
    "        endpoint = endpoint = f\"{api_base_url}{endpoint_path}?api_key={api_key}&query={name}\"\n",
    "    r = requests.get(endpoint) \n",
    "    if r.status_code in range(200, 299):\n",
    "        data = r.json()\n",
    "        results = data['results']\n",
    "        found = False\n",
    "        if len(results) > 0:\n",
    "            for result in results:  \n",
    "                title = result['title']\n",
    "                _id = result['id']\n",
    "                if(movie_matching(title, 0)):\n",
    "                    print(f'added {title} with id: {_id}')\n",
    "                    found = True\n",
    "                    break;\n",
    "                else:\n",
    "                    print(\"no match\")\n",
    "                    no_matches.append([name, year])\n",
    "                break;\n",
    "                    "
   ]
  },
  {
   "cell_type": "code",
   "execution_count": 8,
   "metadata": {
    "scrolled": false
   },
   "outputs": [
    {
     "name": "stdout",
     "output_type": "stream",
     "text": [
      "1690\n"
     ]
    }
   ],
   "source": [
    "# Saving data so it won't need to be looked up again\n",
    "print(len(movie_ids))\n",
    "movie_ids_csv = pd.DataFrame(movie_ids)\n",
    "movie_ids_csv.to_csv(\"movie_ids.csv\", index=False)\n",
    "no_matches = pd.DataFrame(no_matches)\n",
    "no_matches.to_csv(\"no_matches.csv\", index=False)"
   ]
  },
  {
   "cell_type": "code",
   "execution_count": null,
   "metadata": {},
   "outputs": [],
   "source": []
  },
  {
   "cell_type": "code",
   "execution_count": null,
   "metadata": {},
   "outputs": [],
   "source": [
    "movie_data = []\n",
    "for movie_id in movie_ids:\n",
    "    api_version = 3\n",
    "    api_base_url = f\"https://api.themoviedb.org/{api_version}\"\n",
    "    endpoint_path = f\"/movie/{movie_id}\"\n",
    "    endpoint = f\"{api_base_url}{endpoint_path}?api_key={api_key}\"\n",
    "    r = requests.get(endpoint)\n",
    "    if r.status_code in range(200, 299):\n",
    "        data = r.json()\n",
    "        for info in data:\n",
    "            movie_data.append(data['original_title'], data['budget'], data['revenue'])   "
   ]
  },
  {
   "cell_type": "code",
   "execution_count": null,
   "metadata": {},
   "outputs": [],
   "source": [
    "movie_id = \"Lion King\"\n",
    "api_version = \"3\"\n",
    "api_key = \"e324e12054790b52bb68c8d98118dd96\"\n",
    "api_base_url = f\"https://api.themoviedb.org/{api_version}\"\n",
    "endpoint_path = f\"/search/movie\"\n",
    "endpoint = f\"{api_base_url}{endpoint_path}?api_key={api_key}&query={movie_id}\"\n",
    "r = requests.get(endpoint)\n"
   ]
  },
  {
   "cell_type": "code",
   "execution_count": null,
   "metadata": {},
   "outputs": [],
   "source": [
    "\n",
    "\n",
    "# df = pd.DataFrame(movie_data)\n",
    "# print(df.head())\n",
    "# df.to_csv(output, index=False)\n",
    "# © 2021 GitHub, Inc."
   ]
  }
 ],
 "metadata": {
  "kernelspec": {
   "display_name": "Python 3",
   "language": "python",
   "name": "python3"
  },
  "language_info": {
   "codemirror_mode": {
    "name": "ipython",
    "version": 3
   },
   "file_extension": ".py",
   "mimetype": "text/x-python",
   "name": "python",
   "nbconvert_exporter": "python",
   "pygments_lexer": "ipython3",
   "version": "3.8.5"
  }
 },
 "nbformat": 4,
 "nbformat_minor": 4
}
