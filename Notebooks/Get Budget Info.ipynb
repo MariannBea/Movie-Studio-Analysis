{
 "cells": [
  {
   "cell_type": "code",
   "execution_count": null,
   "metadata": {},
   "outputs": [],
   "source": [
    "# libraries needed to get data from https://api.themoviedb.org/...\n",
    "import requests\n",
    "import json\n",
    "\n",
    "import re\n",
    "import pandas as pd\n",
    "\n",
    "from sklearn.preprocessing import MinMaxScaler"
   ]
  },
  {
   "cell_type": "markdown",
   "metadata": {},
   "source": [
    "Resources: https://youtu.be/Sg5VTTBIhqo\n",
    "           https://github.com/codingforentrepreneurs/30-Days-of-Python/blob/master/tutorial-reference/Day%2013/connect.py"
   ]
  },
  {
   "cell_type": "code",
   "execution_count": null,
   "metadata": {},
   "outputs": [],
   "source": [
    "df = pd.read_csv(\"movie_metadata.csv\")\n",
    "\n",
    "# create a database with movie titles and years to use with API to look up information\n",
    "name_list = df[['movie_title', 'title_year']]\n",
    "name_list = name_list[name_list['title_year'] >= 1999]\n",
    "name_list = name_list.drop_duplicates()\n",
    "name_list = name_list.astype({'title_year': int, 'movie_title': str})\n",
    "name_list = name_list.astype({'title_year': str, 'movie_title': str})\n",
    "name_list.reset_index(drop=True, inplace=True)"
   ]
  },
  {
   "cell_type": "code",
   "execution_count": null,
   "metadata": {},
   "outputs": [],
   "source": [
    "def movie_matching(title: str, _id: str, j: int) -> bool:\n",
    "    ''' checks if the movie found matchs the title of the movie in the database'''\n",
    "    if (not re.match(title, name_list.iloc[j, 0])):\n",
    "        print(f'no match: {title}, {name_list.iloc[j, 0]}, {j}')\n",
    "        if j == (len(name_list) - 1): #stop checking at 2000 to avoid stack overrun\n",
    "            j = 0\n",
    "            return False;\n",
    "        else:\n",
    "            j += 1\n",
    "            movie_matching(title, _id, j)\n",
    "    else: \n",
    "        movie_ids.add(_id)\n",
    "        print(f'match: {title}, {name_list.iloc[j, 0]}, {j}')\n",
    "        # if found, drop title from list to reduce search time and so remaining titles can be searched for again without the year\n",
    "        name_list.drop(j, inplace = True) \n",
    "        name_list.reset_index(drop=True, inplace=True)\n",
    "        return True;"
   ]
  },
  {
   "cell_type": "code",
   "execution_count": null,
   "metadata": {},
   "outputs": [],
   "source": [
    "def movie_lookup(name: str, year: int) -> None:\n",
    "    ''' given a name and year, looks up movie index using themoviedb.org api'''\n",
    "    endpoint = \"\"\n",
    "    api_key = \"e324e12054790b52bb68c8d98118dd96\"\n",
    "    api_version = 3\n",
    "    api_base_url = f\"https://api.themoviedb.org/{api_version}\"\n",
    "    endpoint_path = f\"/search/movie\"\n",
    "    if year != 0:\n",
    "        endpoint = f\"{api_base_url}{endpoint_path}?api_key={api_key}&query={name}&year={year}\"\n",
    "    else:\n",
    "        endpoint = endpoint = f\"{api_base_url}{endpoint_path}?api_key={api_key}&query={name}\"\n",
    "    r = requests.get(endpoint) \n",
    "    if r.status_code in range(200, 299):\n",
    "        data = r.json()\n",
    "        results = data['results']\n",
    "        found = False\n",
    "        print(len(results))\n",
    "        if len(results) > 0:\n",
    "            for result in results: \n",
    "                title = result['title']\n",
    "                _id = result['id']\n",
    "                if(movie_matching(title, _id, 0)):\n",
    "                    found = True\n",
    "                    break;    "
   ]
  },
  {
   "cell_type": "code",
   "execution_count": null,
   "metadata": {},
   "outputs": [],
   "source": [
    "movie_ids = set() #holds ids found on movie database that match with title from origial database\n",
    "\n",
    "\n",
    "#loop through movies in name_List and look up their ids\n",
    "for i in range(len(name_list)) :\n",
    "    name = name_list.iloc[i, 0]\n",
    "    year = name_list.iloc[i, 1]\n",
    "    movie_lookup(name, year)\n",
    "\n",
    "\n",
    "#search through unfound movies without submitting a year\n",
    "for index, name, year in name_list.itertuples():\n",
    "    movie_lookup(name, 0)"
   ]
  },
  {
   "cell_type": "markdown",
   "metadata": {},
   "source": [
    "https://www.askpython.com/python/examples/detection-removal-outliers-in-python"
   ]
  },
  {
   "cell_type": "code",
   "execution_count": null,
   "metadata": {},
   "outputs": [],
   "source": [
    "# if the program stops before running through all of items, \n",
    "#this can be used to combine the new data with previously saved data\n",
    "\n",
    "old_movies = pd.read_csv(\"movie_ids.csv\")\n",
    "movie_ids_pd = pd.DataFrame(movie_ids)\n",
    "together = [old_movies, movie_ids_pd]\n",
    "combined = pd.concat(together)\n",
    "\n",
    "#check combined in longer before saving in next step\n",
    "print(len(old_movies))\n",
    "print(len(combined))"
   ]
  },
  {
   "cell_type": "code",
   "execution_count": null,
   "metadata": {
    "scrolled": false
   },
   "outputs": [],
   "source": [
    "# Save any returned data so it won't need to be looked up again\n",
    "movie_ids_csv = pd.DataFrame(combined)\n",
    "movie_ids_csv.to_csv(\"movie_ids.csv\", index=False)\n",
    "# Save names of movies where no matches were found so they can be researched further\n",
    "no_matches = pd.DataFrame(name_list)\n",
    "no_matches.to_csv(\"movies_no_matches.csv\", index=False)"
   ]
  },
  {
   "cell_type": "code",
   "execution_count": null,
   "metadata": {},
   "outputs": [],
   "source": [
    "#use the ids found above to lookup budget and revenue data\n",
    "movie_data = []\n",
    "movie_ids = pd.read_csv(\"movie_ids.csv\")\n",
    "for index, movie_id in movie_ids.itertuples():\n",
    "    api_version = 3\n",
    "    api_key = \"e324e12054790b52bb68c8d98118dd96\"\n",
    "    api_base_url = f\"https://api.themoviedb.org/{api_version}\"\n",
    "    endpoint_path = f\"/movie/{movie_id}\"\n",
    "    endpoint = f\"{api_base_url}{endpoint_path}?api_key={api_key}\"\n",
    "    r = requests.get(endpoint)\n",
    "    if r.status_code in range(200, 299):\n",
    "        #drop ids so if the connection times out, the remaining ids can be saved and used\n",
    "        movie_ids.drop(index, inplace = True) \n",
    "        data = r.json()\n",
    "        movie_data.append([data['original_title'], data['budget'], data['revenue']])   \n",
    "        print([data['original_title'], data['budget'], data['revenue']])"
   ]
  },
  {
   "cell_type": "code",
   "execution_count": null,
   "metadata": {},
   "outputs": [],
   "source": [
    "# use if the connection times out\n",
    "movie_data = pd.DataFrame(movie_data)\n",
    "movie_ids.to_csv(\"movie_ids2\")"
   ]
  },
  {
   "cell_type": "code",
   "execution_count": null,
   "metadata": {},
   "outputs": [],
   "source": [
    "#use only if the connection times out to save obtained data\n",
    "movies1 = pd.read_csv(\"movie_profits.csv\")\n",
    "movie_data.columns = [\"title\", \"budget\", \"revenue\"]\n",
    "movies = [movie1, movie_data]\n",
    "movie_budget = movies1.append(movie_data)\n",
    "movie_budget.to_csv(\"movie_profits.csv\", index = False)"
   ]
  },
  {
   "cell_type": "code",
   "execution_count": null,
   "metadata": {},
   "outputs": [],
   "source": [
    "#calculate profits and add to dataframe, save as csv\n",
    "movie_budget[\"profit\"] = movie_budget[\"revenue\"] - movie_budget[\"budget\"]\n",
    "movie_budget.to_csv(\"movie_profits.csv\", index = False)"
   ]
  }
 ],
 "metadata": {
  "kernelspec": {
   "display_name": "Python 3",
   "language": "python",
   "name": "python3"
  },
  "language_info": {
   "codemirror_mode": {
    "name": "ipython",
    "version": 3
   },
   "file_extension": ".py",
   "mimetype": "text/x-python",
   "name": "python",
   "nbconvert_exporter": "python",
   "pygments_lexer": "ipython3",
   "version": "3.8.5"
  }
 },
 "nbformat": 4,
 "nbformat_minor": 4
}
