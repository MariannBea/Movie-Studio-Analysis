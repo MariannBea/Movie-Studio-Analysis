{
 "cells": [
  {
   "cell_type": "code",
   "execution_count": 1,
   "metadata": {},
   "outputs": [],
   "source": [
    "import pandas as pd\n",
    "import numpy as np\n",
    "import math\n",
    "\n",
    "from pandas_profiling import ProfileReport\n",
    "\n",
    "import seaborn as sns\n",
    "import matplotlib.pyplot as plt\n",
    "\n",
    "from sklearn.preprocessing import MinMaxScaler\n",
    "from sklearn import metrics"
   ]
  },
  {
   "cell_type": "code",
   "execution_count": 2,
   "metadata": {},
   "outputs": [],
   "source": [
    "movies_df = pd.read_csv('movie_metadata.csv')\n",
    "\n",
    "#creates a profile document which analyses each of the variables in the dataframe \n",
    "# movies_profile = ProfileReport(movies, title = \"Movie Report\", explorative=True)\n",
    "# movies_profile.to_file(\"movies.html\")"
   ]
  },
  {
   "cell_type": "markdown",
   "metadata": {},
   "source": [
    "# Information Gained From the Profile\n",
    "\n",
    "**Numerical**\n",
    "\n",
    "director_facebook_likes, *duration*,  actor_1_facebook_likes, actor_2_facebook_likes, actor_3_facebook_likes, cast_total_facebook_likes, movie_facebook_likes, \n",
    "\n",
    "num_voted_users, num_critic_for_reviews,  num_user_for_reviews   \n",
    "\n",
    "gross, budget,\n",
    "\n",
    "*imbd_score*, facenumber_in_poster\n",
    "\n",
    "*Italitized items have close to a normal distribution. The rest of the values are skewed.*\n",
    "\n",
    "**Categorical**\n",
    "\n",
    "*director_name, actor_1_name, actor_2_name, actor_3_name*\n",
    "\n",
    "language, country, content_rating\n",
    "\n",
    "*movie_title, movie_imdb_link*,  aspect_ratio, color\n",
    "\n",
    "*Italitized items have high cardinality.*\n",
    "\n",
    "**Imbalanced Variables**: color, language, country\n",
    "\n",
    "**List Variables**: genres, plot keywords\n",
    "\n",
    "**Large Percentage Missing**: director_facebook_likes, gross, budget, title_year\n",
    "\n",
    "**Extreme Values** : Most of the numerical values have outliers/extreme values. "
   ]
  },
  {
   "cell_type": "markdown",
   "metadata": {},
   "source": [
    "* About half of the varaiables contained information that could be used to plan future productions. \n",
    "* The other half of the information was about things that studios would have little or no control over, such as the number of facebook likes or reviewer on imdb.\n",
    "* Some of the variables, like director and actor, had a lot of different possible values.  This could make it more difficult to use with Machine Learning algorithms.\n",
    "* The first movie in the database was from 1916.  Movies that are from far in the past might not be as good at helping to predict future movie sales.\n",
    "* Data was heavily scewed towards color movies, english language and movies made in the US. As most movies are made in color now, this variable could probably be dropped. Language and country data would either need some processing before use or to drop them as well.\n",
    "* Most of the data did not have missing values. Unfortunately, budget and gross, two of the more important ones for this analysis had a high percentage of missing values.\n",
    "* Very few of the values had normal distribution.  Some of this was likely due the changes in technology over time and inflation.\n",
    "* Many of the values had high correlations between them. Some of this was also likely due to changes over time.\n",
    "* Both budget and gross had an extremely wide spread.  Part of this was probably due to inflation. Adjusting amounts for inflation might help with this to some extent."
   ]
  },
  {
   "cell_type": "code",
   "execution_count": 3,
   "metadata": {},
   "outputs": [],
   "source": [
    "# create a new column, transform 'genres' and 'plot_keywords' into lists, \n",
    "# store the lists in the new columns\n",
    "movies_df['genre_list'] = movies_df['genres'].copy()\n",
    "movies_df['genre_list'] = movies_df['genre_list'].str.split('|')\n",
    "\n",
    "# movies_df['keyword_list'] = movies_df['plot_keywords'].copy()\n",
    "# movies_df['keyword_list'] = movies_df['keyword_list'].str.split('|')\n",
    "\n",
    "# create boolean columns for each genre\n",
    "\n",
    "genres = set([item for lists in movies_df['genre_list'] for item in lists])\n",
    "\n",
    "# Below code was taken from: \n",
    "# https://towardsdatascience.com/dealing-with-list-values-in-pandas-dataframes-a177e534f173\n",
    "# Create empty dict\n",
    "genre_dict = {}\n",
    "\n",
    "# Loop through all the tags\n",
    "for i, item in enumerate(genres):\n",
    "    # Apply boolean mask\n",
    "    genre_dict[item] = movies_df['genre_list'].apply(lambda x: item in x)\n",
    "\n",
    "# Return the results as a dataframe, change True and false values to 0 and 1\n",
    "genre_frame =  pd.DataFrame(genre_dict)\n",
    "genre_frame = genre_frame.astype(int)\n",
    "\n",
    "#merge the genre dataframe back with the original one\n",
    "movies_df = pd.merge(movies_df, genre_frame, left_index = True, right_index = True)\n",
    "movies_df.drop(columns = ['genre_list'], inplace = True)\n",
    "movies_df.drop_duplicates(inplace = True)"
   ]
  },
  {
   "cell_type": "markdown",
   "metadata": {},
   "source": [
    "####Getting More Accurate Data\n",
    "\n",
    "When looking through the budget and profit data to explore some of the more extreme values, \n",
    "I noticed that the gross value seemed to refer to different IMBD values.  Sometimes it referred to the\n",
    "first weekend in the US and Canada and other times it was close, but not an exact match, to the all time gross.\n",
    "This would obviously affect the results of the income.  To solve this problem, I downloaded world-wide revenue \n",
    "values from The Movie Database https://developers.themoviedb.org/3. I also downloaded the budget values. With this information, I calculated the profits for each movie. This was done in this notebook: https://github.com/MariannBea/Movie-Studio-Analysis/blob/1ea166b5340df00c818f158ac52404fd979c0e74/Notebooks/Get%20Budget%20Info.ipynb\n",
    "\n",
    "Next this information will be merged with the original database."
   ]
  },
  {
   "cell_type": "code",
   "execution_count": 4,
   "metadata": {},
   "outputs": [],
   "source": [
    "movies_df.drop(columns = ['gross', 'budget'], inplace = True)\n",
    "\n",
    "# read budget, revenue and profit data in from csv.\n",
    "budget_data = pd.read_csv('movie_profits.csv')\n",
    "budget_data.drop_duplicates(inplace = True)\n",
    "budget_data.columns = ['movie_title', 'budget', 'revenue', 'profit']\n",
    "\n",
    "movie_info = pd.merge(movies_df, budget_data, on='movie_title')"
   ]
  },
  {
   "cell_type": "code",
   "execution_count": 5,
   "metadata": {},
   "outputs": [],
   "source": [
    "#analyse the merged dataframe\n",
    "# movies_profile = ProfileReport(movie_info, title = \"Merged_Movies\", explorative=True)\n",
    "# movies_profile.to_file(\"merged_movies.html\")"
   ]
  },
  {
   "cell_type": "code",
   "execution_count": 6,
   "metadata": {},
   "outputs": [],
   "source": [
    "# remove 0 values for budget and revenue. This was the value used by the Movie Database to indicate\n",
    "# a value had not yet been entered.\n",
    "movie_info = movie_info[movie_info.budget != 0]\n",
    "movie_info = movie_info[movie_info.revenue != 0]"
   ]
  },
  {
   "cell_type": "markdown",
   "metadata": {},
   "source": [
    "Profit information was adjusted for inflation over time. \n",
    "\n",
    "Inflation information was found at: https://data.worldbank.org/indicator/FP.CPI.TOTL.ZG \n",
    "\n",
    "Some countries were not present in the data. The countries on the left were give the values for the country or region on the right as they were closest economic match. \n",
    "\n",
    "* Argentina: Latin America & Caribbean \n",
    "* Finland: EU Indonesia: East Asia & Pacific (excluding high income) \n",
    "* South Korea: East Asia & Pacific \n",
    "* Taiwan: China \n",
    "* Thailand: East Asia & Pacific (excluding high income) \n",
    "* West Germany - Russia Soviet Union - Russia"
   ]
  },
  {
   "cell_type": "code",
   "execution_count": 7,
   "metadata": {},
   "outputs": [],
   "source": [
    "inflation = pd.read_csv(\"price_index.csv\")\n",
    "\n",
    "# calculate mean inflation rate for each country.  Use this rate to fill in NaN values    \n",
    "inflation['mean'] = inflation.mean(axis = 1, numeric_only = True)\n",
    "inflation = inflation.set_index('country')\n",
    "\n",
    "# fill missing years with 2005, missing countries with USA (most common)\n",
    "movie_info['title_year'].fillna(2005, inplace = True)\n",
    "movie_info['country'].fillna('USA', inplace = True)\n",
    "\n",
    "#determine inflation rate for each movie, movies before 1960 given mean inflation rate\n",
    "movie_info['title_year'] = movie_info['title_year'].astype(int)\n",
    "\n",
    "for index, year, country in movie_info[['title_year', 'country']].itertuples():\n",
    "    stryear = str(year)\n",
    "    strcountry = str(country)\n",
    "    if year >= 1960:\n",
    "        movie_info['rate'] = inflation.loc[[strcountry],[stryear]].iloc[0][0]\n",
    "    else:\n",
    "        movie_info['rate'] = inflation.loc[[strcountry],['mean']].iloc[0][0]\n",
    "\n",
    "# find budget, gross and profits adjusted for inflation\n",
    "movie_info['budget_infl'] = (movie_info['budget']/movie_info['rate']) * 100\n",
    "movie_info['gross_infl'] = (movie_info['revenue']/movie_info['rate']) * 100\n",
    "movie_info['profit'] = (movie_info['profit']/movie_info['rate']) * 100"
   ]
  },
  {
   "cell_type": "markdown",
   "metadata": {},
   "source": [
    "There were several very similar content ratings.  These were combined into categories based on their general age appropriateness.  These categories will be used to look for a correlation between the age that content in created for and profits.  It will also be used to investigate if there is some correlation between profitability and particular genres related to specific age groups."
   ]
  },
  {
   "cell_type": "code",
   "execution_count": 8,
   "metadata": {},
   "outputs": [],
   "source": [
    "#consolidate ratings into smaller categories\n",
    "movie_info['content_rating'].replace({'Not Rated': 'Unrated', 'Approved': 'Unrated', \n",
    "                                           'TV-G': 'G',  'TV-PG': 'PG', 'TV-MA': 'R',\n",
    "                                           'TV-Y': 'G', 'TV-14': 'PG-13', 'Passed': 'Not Rated',\n",
    "                                           'TV-Y7': 'PG', 'M': 'PG', 'GP': 'PG'}, inplace = True)"
   ]
  },
  {
   "cell_type": "markdown",
   "metadata": {},
   "source": [
    "More recent movies are more likely to have a predictive value for what features in future movies are likely to lead to success.  1999 was chosen as the initial cut off date because it was the low end of the interquartile range from the orignal set of data.  However, both a wider and narrower date range will be explored."
   ]
  },
  {
   "cell_type": "code",
   "execution_count": 9,
   "metadata": {},
   "outputs": [],
   "source": [
    "#create a database for movies that are after 1999\n",
    "recent_movies = movie_info.loc[movie_info['title_year'] >= 1999]\n",
    "recent_movies = recent_movies.drop(columns = ['color', 'num_voted_users', 'num_user_for_reviews', 'num_critic_for_reviews'])"
   ]
  },
  {
   "cell_type": "markdown",
   "metadata": {},
   "source": [
    "I wanted to see if there was a correlation between the number of movies a director or actor participated in and profits.  My first attempt (3 - 4 cells below this), just counted the number of movies or frequency each person was in.  However, this isn't accurate to reality.  A director who directed 43 movies, didn't direct 43 movies when they were making thier first movie.  So, the code below tries to more accurately reflect the number of movies the person was involved in at the point of time that the movie was made.  First the movies were sorted by year.  Then each time a person was involved in a movie, their count was incremented by one."
   ]
  },
  {
   "cell_type": "code",
   "execution_count": 10,
   "metadata": {},
   "outputs": [],
   "source": [
    "recent_movies = recent_movies.sort_values(by = ['title_year']).reset_index(drop = True)\n",
    "\n",
    "director_count = {}\n",
    "\n",
    "for index, title, director, year in recent_movies[['movie_title','director_name', 'title_year']].itertuples():\n",
    "    if director in director_count:\n",
    "        recent_movies.loc[recent_movies['movie_title'] == title,'director_count'] = (director_count[director] + 1)\n",
    "        director_count[director] += 1\n",
    "    else:\n",
    "        recent_movies.loc[recent_movies['movie_title'] == title,'director_count'] = 1\n",
    "        director_count[director] = 1"
   ]
  },
  {
   "cell_type": "code",
   "execution_count": 11,
   "metadata": {},
   "outputs": [],
   "source": [
    "actor_count = {}\n",
    "\n",
    "for index, title, actor1, actor2, actor3 in recent_movies[['movie_title','actor_1_name', 'actor_2_name', 'actor_3_name']].itertuples():\n",
    "    if actor1 in actor_count:\n",
    "        recent_movies.loc[recent_movies['movie_title'] == title,'actor1_count'] = (actor_count[actor1] + 1)\n",
    "        actor_count[actor1] += 1\n",
    "    else:\n",
    "        recent_movies.loc[recent_movies['movie_title'] == title,'actor1_count'] = 1\n",
    "        actor_count[actor1] = 1\n",
    "    if actor2 in actor_count:\n",
    "        recent_movies.loc[recent_movies['movie_title'] == title,'actor2_count'] = (actor_count[actor2] + 1)\n",
    "        actor_count[actor1] += 1\n",
    "    else:\n",
    "        recent_movies.loc[recent_movies['movie_title'] == title,'actor2_count'] = 1\n",
    "        actor_count[actor2] = 1\n",
    "    if actor3 in actor_count:\n",
    "        recent_movies.loc[recent_movies['movie_title'] == title,'actor3_count'] = (actor_count[actor3] + 1)\n",
    "        actor_count[actor1] += 1\n",
    "    else:\n",
    "        recent_movies.loc[recent_movies['movie_title'] == title,'actor3_count'] = 1\n",
    "        actor_count[actor3] = 1"
   ]
  },
  {
   "cell_type": "code",
   "execution_count": null,
   "metadata": {},
   "outputs": [],
   "source": []
  },
  {
   "cell_type": "markdown",
   "metadata": {},
   "source": [
    "###### The code below was my first attempt at counting the number of movies that a director or actor was involved in .\n",
    "\n",
    "To determine if their is a correlation between the number of movies a director or actor was involved in and profits, the number of movies for each director or actor needs to be tallied.  The value for the director was calculated as its relative frequency compared to the other movies."
   ]
  },
  {
   "cell_type": "markdown",
   "metadata": {},
   "source": [
    " "
   ]
  },
  {
   "cell_type": "markdown",
   "metadata": {},
   "source": [
    "#add a column showing relative frequency of movies directed by a particular director\n",
    "num_movies = recent_movies['director_name'].value_counts(normalize = True).reset_index(drop = True)\n",
    "num_movies.columns = ['director_name', 'director_count']\n",
    "recent_movies = pd.merge(recent_movies, num_movies, on = 'director_name')\n",
    "\n",
    "recent_movies = recent_movies.sort_values(by = ['title_year'])\n",
    "#find frequency of each actor\n",
    "actor1_num_movies = pd.DataFrame(recent_movies[['actor_1_name']].value_counts()).reset_index()\n",
    "actor2_num_movies = pd.DataFrame(recent_movies[['actor_2_name']].value_counts()).reset_index()\n",
    "actor3_num_movies = pd.DataFrame(recent_movies[['actor_3_name']].value_counts()).reset_index()\n",
    "\n",
    "\n",
    "#create a dictionary with the total count of actors across actor1, actor2 and actor 3\n",
    "actor_dict = { }\n",
    "\n",
    "for index1, actor1, count1 in actor1_num_movies.itertuples():\n",
    "    if actor1 in actor_dict:\n",
    "        actor_dict[actor1] += count1\n",
    "    else: \n",
    "        actor_dict[actor1] = count1\n",
    "\n",
    "for index2, actor2, count2 in actor2_num_movies.itertuples():\n",
    "    if actor2 in actor_dict:\n",
    "        actor_dict[actor2] += count2\n",
    "    else: \n",
    "        actor_dict[actor2] = count2\n",
    "        \n",
    "for index3, actor3, count3 in actor3_num_movies.itertuples():\n",
    "    if actor3 in actor_dict:\n",
    "        actor_dict[actor3] += count3\n",
    "    else: \n",
    "        actor_dict[actor3] = count3  "
   ]
  },
  {
   "cell_type": "markdown",
   "metadata": {},
   "source": [
    "#add actor count column to data frame\n",
    "recent_movies['actor1_count'] = recent_movies['actor_1_name'].apply(lambda x: actor_dict.get(x))\n",
    "recent_movies['actor2_count'] = recent_movies['actor_2_name'].apply(lambda x: actor_dict.get(x))\n",
    "recent_movies['actor3_count'] = recent_movies['actor_3_name'].apply(lambda x: actor_dict.get(x))"
   ]
  },
  {
   "cell_type": "code",
   "execution_count": 13,
   "metadata": {},
   "outputs": [
    {
     "name": "stdout",
     "output_type": "stream",
     "text": [
      "-37890949.13288218\n",
      "11747297140.66101\n"
     ]
    },
    {
     "data": {
      "image/png": "[encoded data removed]",
      "text/plain": [
       "<Figure size 432x288 with 1 Axes>"
      ]
     },
     "metadata": {
      "needs_background": "light"
     },
     "output_type": "display_data"
    }
   ],
   "source": [
    "# plot values to look for outliers\n",
    "sns.boxplot(x=recent_movies['profit'])\n",
    "\n",
    "Q1 = recent_movies['profit'].quantile(0.25)\n",
    "Q3 = recent_movies['profit'].quantile(0.75)\n",
    "print(Q1)\n",
    "print(Q3)"
   ]
  },
  {
   "cell_type": "code",
   "execution_count": 14,
   "metadata": {},
   "outputs": [],
   "source": [
    "#only include movies that made at least $1000 profit and 150,000,000,000 to remove extreme outliers\n",
    "# I didn't remove all outliers because movie studios would want their movies to be more profitable than normal\n",
    "recent_profitable_movies = recent_movies.loc[recent_movies['profit'] >= 1000].reset_index(drop = True)\n",
    "recent_profitable_movies = recent_profitable_movies.loc[recent_profitable_movies['profit'] <= 150000000000].reset_index(drop = True)\n",
    "\n",
    "recent_profitable_movies['normalized_profit'] = MinMaxScaler().fit_transform(np.array(recent_profitable_movies['profit']).reshape(-1,1))  "
   ]
  },
  {
   "cell_type": "code",
   "execution_count": 15,
   "metadata": {},
   "outputs": [
    {
     "name": "stdout",
     "output_type": "stream",
     "text": [
      "2206355280.65979\n",
      "16093739931.942266\n"
     ]
    },
    {
     "data": {
      "image/png": "[encoded data removed]",
      "text/plain": [
       "<Figure size 432x288 with 1 Axes>"
      ]
     },
     "metadata": {
      "needs_background": "light"
     },
     "output_type": "display_data"
    }
   ],
   "source": [
    "# replot values to see how removing some value affected the distrubution\n",
    "sns.boxplot(x=recent_profitable_movies['profit'])\n",
    "\n",
    "Q1 = recent_profitable_movies['profit'].quantile(0.25)\n",
    "Q3 = recent_profitable_movies['profit'].quantile(0.75)\n",
    "print(Q1)\n",
    "print(Q3)"
   ]
  },
  {
   "cell_type": "code",
   "execution_count": 16,
   "metadata": {},
   "outputs": [],
   "source": [
    "#save the dataframe to a csv file so that it can be used in analysis in another notebook\n",
    "recent_profitable_movies.to_csv(\"recent_profitable_movies.csv\", index = False)"
   ]
  },
  {
   "cell_type": "code",
   "execution_count": null,
   "metadata": {},
   "outputs": [],
   "source": []
  }
 ],
 "metadata": {
  "kernelspec": {
   "display_name": "Python 3",
   "language": "python",
   "name": "python3"
  },
  "language_info": {
   "codemirror_mode": {
    "name": "ipython",
    "version": 3
   },
   "file_extension": ".py",
   "mimetype": "text/x-python",
   "name": "python",
   "nbconvert_exporter": "python",
   "pygments_lexer": "ipython3",
   "version": "3.8.5"
  }
 },
 "nbformat": 4,
 "nbformat_minor": 4
}
